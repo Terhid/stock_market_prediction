{
 "cells": [
  {
   "cell_type": "code",
   "execution_count": 1,
   "metadata": {
    "collapsed": true
   },
   "outputs": [],
   "source": [
    "import pandas as pd"
   ]
  },
  {
   "cell_type": "code",
   "execution_count": 3,
   "metadata": {},
   "outputs": [],
   "source": [
    "df = pd.read_csv('s_and_p_500.csv')"
   ]
  },
  {
   "cell_type": "code",
   "execution_count": 6,
   "metadata": {},
   "outputs": [
    {
     "data": {
      "text/plain": [
       "0.0"
      ]
     },
     "execution_count": 6,
     "metadata": {},
     "output_type": "execute_result"
    }
   ],
   "source": [
    "(df['Close'] - df['Adj Close']).sum()"
   ]
  },
  {
   "cell_type": "code",
   "execution_count": 7,
   "metadata": {},
   "outputs": [
    {
     "data": {
      "text/html": [
       "<div>\n",
       "<style>\n",
       "    .dataframe thead tr:only-child th {\n",
       "        text-align: right;\n",
       "    }\n",
       "\n",
       "    .dataframe thead th {\n",
       "        text-align: left;\n",
       "    }\n",
       "\n",
       "    .dataframe tbody tr th {\n",
       "        vertical-align: top;\n",
       "    }\n",
       "</style>\n",
       "<table border=\"1\" class=\"dataframe\">\n",
       "  <thead>\n",
       "    <tr style=\"text-align: right;\">\n",
       "      <th></th>\n",
       "      <th>Date</th>\n",
       "      <th>Open</th>\n",
       "      <th>High</th>\n",
       "      <th>Low</th>\n",
       "      <th>Close</th>\n",
       "      <th>Adj Close</th>\n",
       "      <th>Volume</th>\n",
       "    </tr>\n",
       "  </thead>\n",
       "  <tbody>\n",
       "    <tr>\n",
       "      <th>0</th>\n",
       "      <td>2017-06-26</td>\n",
       "      <td>2443.320068</td>\n",
       "      <td>2450.419922</td>\n",
       "      <td>2437.030029</td>\n",
       "      <td>2439.070068</td>\n",
       "      <td>2439.070068</td>\n",
       "      <td>3238970000</td>\n",
       "    </tr>\n",
       "    <tr>\n",
       "      <th>1</th>\n",
       "      <td>2017-06-27</td>\n",
       "      <td>2436.340088</td>\n",
       "      <td>2440.149902</td>\n",
       "      <td>2419.379883</td>\n",
       "      <td>2419.379883</td>\n",
       "      <td>2419.379883</td>\n",
       "      <td>3563910000</td>\n",
       "    </tr>\n",
       "    <tr>\n",
       "      <th>2</th>\n",
       "      <td>2017-06-28</td>\n",
       "      <td>2428.699951</td>\n",
       "      <td>2442.969971</td>\n",
       "      <td>2428.020020</td>\n",
       "      <td>2440.689941</td>\n",
       "      <td>2440.689941</td>\n",
       "      <td>3500800000</td>\n",
       "    </tr>\n",
       "    <tr>\n",
       "      <th>3</th>\n",
       "      <td>2017-06-29</td>\n",
       "      <td>2442.379883</td>\n",
       "      <td>2442.729980</td>\n",
       "      <td>2405.699951</td>\n",
       "      <td>2419.699951</td>\n",
       "      <td>2419.699951</td>\n",
       "      <td>3900280000</td>\n",
       "    </tr>\n",
       "    <tr>\n",
       "      <th>4</th>\n",
       "      <td>2017-06-30</td>\n",
       "      <td>2429.199951</td>\n",
       "      <td>2432.709961</td>\n",
       "      <td>2421.649902</td>\n",
       "      <td>2423.409912</td>\n",
       "      <td>2423.409912</td>\n",
       "      <td>3361590000</td>\n",
       "    </tr>\n",
       "  </tbody>\n",
       "</table>\n",
       "</div>"
      ],
      "text/plain": [
       "<div>\n",
       "<style>\n",
       "    .dataframe thead tr:only-child th {\n",
       "        text-align: right;\n",
       "    }\n",
       "\n",
       "    .dataframe thead th {\n",
       "        text-align: left;\n",
       "    }\n",
       "\n",
       "    .dataframe tbody tr th {\n",
       "        vertical-align: top;\n",
       "    }\n",
       "</style>\n",
       "<table border=\"1\" class=\"dataframe\">\n",
       "  <thead>\n",
       "    <tr style=\"text-align: right;\">\n",
       "      <th></th>\n",
       "      <th>Date</th>\n",
       "      <th>Open</th>\n",
       "      <th>High</th>\n",
       "      <th>Low</th>\n",
       "      <th>Close</th>\n",
       "      <th>Adj Close</th>\n",
       "      <th>Volume</th>\n",
       "    </tr>\n",
       "  </thead>\n",
       "  <tbody>\n",
       "    <tr>\n",
       "      <th>0</th>\n",
       "      <td>2017-06-26</td>\n",
       "      <td>2443.320068</td>\n",
       "      <td>2450.419922</td>\n",
       "      <td>2437.030029</td>\n",
       "      <td>2439.070068</td>\n",
       "      <td>2439.070068</td>\n",
       "      <td>3238970000</td>\n",
       "    </tr>\n",
       "    <tr>\n",
       "      <th>1</th>\n",
       "      <td>2017-06-27</td>\n",
       "      <td>2436.340088</td>\n",
       "      <td>2440.149902</td>\n",
       "      <td>2419.379883</td>\n",
       "      <td>2419.379883</td>\n",
       "      <td>2419.379883</td>\n",
       "      <td>3563910000</td>\n",
       "    </tr>\n",
       "    <tr>\n",
       "      <th>2</th>\n",
       "      <td>2017-06-28</td>\n",
       "      <td>2428.699951</td>\n",
       "      <td>2442.969971</td>\n",
       "      <td>2428.020020</td>\n",
       "      <td>2440.689941</td>\n",
       "      <td>2440.689941</td>\n",
       "      <td>3500800000</td>\n",
       "    </tr>\n",
       "    <tr>\n",
       "      <th>3</th>\n",
       "      <td>2017-06-29</td>\n",
       "      <td>2442.379883</td>\n",
       "      <td>2442.729980</td>\n",
       "      <td>2405.699951</td>\n",
       "      <td>2419.699951</td>\n",
       "      <td>2419.699951</td>\n",
       "      <td>3900280000</td>\n",
       "    </tr>\n",
       "    <tr>\n",
       "      <th>4</th>\n",
       "      <td>2017-06-30</td>\n",
       "      <td>2429.199951</td>\n",
       "      <td>2432.709961</td>\n",
       "      <td>2421.649902</td>\n",
       "      <td>2423.409912</td>\n",
       "      <td>2423.409912</td>\n",
       "      <td>3361590000</td>\n",
       "    </tr>\n",
       "  </tbody>\n",
       "</table>\n",
       "</div>"
      ]
     },
     "execution_count": 7,
     "metadata": {},
     "output_type": "execute_result"
    }
   ],
   "source": [
    "df.head()"
   ]
  },
  {
   "cell_type": "code",
   "execution_count": null,
   "metadata": {},
   "outputs": [],
   "source": [
    ""
   ]
  }
 ],
 "metadata": {
  "kernelspec": {
   "display_name": "Python 2",
   "language": "python",
   "name": "python2"
  },
  "language_info": {
   "codemirror_mode": {
    "name": "ipython",
    "version": 2.0
   },
   "file_extension": ".py",
   "mimetype": "text/x-python",
   "name": "python",
   "nbconvert_exporter": "python",
   "pygments_lexer": "ipython2",
   "version": "2.7.6"
  }
 },
 "nbformat": 4,
 "nbformat_minor": 0
}